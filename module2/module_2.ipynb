{
 "cells": [
  {
   "cell_type": "markdown",
   "metadata": {},
   "source": [
    "## Module 2\n",
    "\n",
    "This is Module 2 in building a reusable, class-based machine learning framework.\n",
    "\n",
    "In [Module 1](https://github.com/threnjen/object_oriented_machine_learning/blob/main/module1/module_1.ipynb), we focused on preparing to code outside of Jupyter Notebook. We set up virtual environments with Pipenv, installed and configured VS Code, and added automatic Black formatting to our code.\n",
    "\n",
    "In Module 2, we will focus on the following skills:\n",
    "- Quick refresher of classes and object-oriented programming (or a quick introduction, but overall this is not intended as a tutorial about class-based programming)\n",
    "- Building our base model class with an initial exploratory method\n",
    "- Introducing docstrings into our code"
   ]
  },
  {
   "cell_type": "markdown",
   "metadata": {},
   "source": [
    "### Class Refresher (or brief introduction)\n",
    "\n",
    "This section has a basic overview/refresher of classes. If you haven't seen a class before, follow along - but I cannot promise full understanding. However as the tutorial proceeds, the intricacies should become more clear.\n",
    "\n",
    "A class is a blueprint. You can create many objects from the blueprint, and they are all similar, because they are made from the same blueprint. The class has its own set of functions (in a class we call these methods) that will all perform the same way no matter how many objects we make from the blueprint. It also has its own set of variables (in a class we call these attributes) that we can manipulate in the same way as global variables.\n",
    "\n",
    "A common teaching example of a class blueprint is a Dog. Let's make a sample class of type Dog, and make some different dog objects to explore how this works."
   ]
  },
  {
   "cell_type": "code",
   "execution_count": null,
   "metadata": {},
   "outputs": [],
   "source": [
    "class Dog:\n",
    "\n",
    "    def __init__(self):\n",
    "        pass"
   ]
  },
  {
   "cell_type": "markdown",
   "metadata": {},
   "source": [
    "Classes ALWAYS start with a special method called the init. The init is always written as, at minimum, def \\_\\_init\\_\\_(self) and may contain nothing but a pass, as in the above Dog example. It's not required to do anything. But what the \\_\\_init\\_\\_ DOES do is, anytime you make an object using your CLASS blueprint, it will do all of the things inside of the init when it makes the object. You can think of the \\_\\_init\\_\\_ as the class setup function. \n",
    "\n",
    "We're going to make our Dog class a little more interesting. Here is our class Dog:"
   ]
  },
  {
   "cell_type": "code",
   "execution_count": 16,
   "metadata": {},
   "outputs": [],
   "source": [
    "class Dog:\n",
    "\n",
    "    def __init__(self, dog_type):\n",
    "        self.type = dog_type\n",
    "    \n",
    "    def bark(self):\n",
    "        print(\"WOOF!\")\n",
    "        print(self.type)"
   ]
  },
  {
   "cell_type": "markdown",
   "metadata": {},
   "source": [
    "In the Dog class \\_\\_init\\_\\_, we're passing an argument \"dog_type\" and setting a class attribute. Well talk more about how that works in a moment.\n",
    "\n",
    "\n",
    "In the Dog class I am showing both an ATTRIBUTE and a METHOD. \n",
    "\n",
    "The ATTRIBUTE we made in the Dog class is self.type. Any variable inside a class that we preface with a \"self.\" becomes available to all of the methods inside of the class, without us having to pass it around.\n",
    "\n",
    "Our class METHOD is \"def bark(self)\". You can see that it's just a function. Whenever we have a function inside a class, it is called a method.  You may see in the output of method \"bark\" that we reference the variable self.type, but *we did not have to pass it into the function*. This is one of the special ways that a class works. The class implicitly knows about all the self.xxxx attributes by having \"self\" as the first argument of all of the methods. The \"self\" that you see in all of the class methods, such as def bark(self), is an *invisible argument* that you ignore when you are passing things to your class object. I'll show you what we mean shortly.\n",
    "\n",
    "Let's make some dogs.\n",
    "\n",
    "We are going to make a beagle."
   ]
  },
  {
   "cell_type": "code",
   "execution_count": 18,
   "metadata": {},
   "outputs": [],
   "source": [
    "beagle = Dog('beagle')"
   ]
  },
  {
   "cell_type": "markdown",
   "metadata": {},
   "source": [
    "We now have an instance of our object named beagle. We also make a different dog of a different type."
   ]
  },
  {
   "cell_type": "code",
   "execution_count": null,
   "metadata": {},
   "outputs": [],
   "source": [
    "husky = Dog('husky')"
   ]
  },
  {
   "cell_type": "markdown",
   "metadata": {},
   "source": [
    "When we make a Dog instance of any type, that \\_\\_init\\_\\_ setup function gets run, and we can send it arguments just like any other function. You may recall before that I referrred to \"self\" as an *invisible* argument, meaning you always ignore it when sending arguments to a class method. The same is true for the \\_\\_init\\_\\_. Our dog init calls for a dog_type argument. So we DO send it a dog_type argument when we make an instance of a dog.\n",
    "\n",
    "Now that we have two different dogs, we can make them do the same thing by calling on their class method \"bark\""
   ]
  },
  {
   "cell_type": "code",
   "execution_count": 19,
   "metadata": {},
   "outputs": [
    {
     "name": "stdout",
     "output_type": "stream",
     "text": [
      "WOOF!\n",
      "beagle\n"
     ]
    }
   ],
   "source": [
    "beagle.bark()"
   ]
  },
  {
   "cell_type": "code",
   "execution_count": 20,
   "metadata": {},
   "outputs": [
    {
     "name": "stdout",
     "output_type": "stream",
     "text": [
      "WOOF!\n",
      "husky\n"
     ]
    }
   ],
   "source": [
    "husky.bark()"
   ]
  },
  {
   "cell_type": "markdown",
   "metadata": {},
   "source": [
    "When we call on the bark method with each dog, they woof and then report their dog_type. These give different outputs even though they are both Dog class items, because Dog is only a BLUEPRINT. The beagle and the husky are OBJECTS. A class definition is a BLUEPRINT for multiple similar objects to use.\n",
    "\n",
    "We can also call our class attributes directly if we want to see them"
   ]
  },
  {
   "cell_type": "code",
   "execution_count": 22,
   "metadata": {},
   "outputs": [
    {
     "name": "stdout",
     "output_type": "stream",
     "text": [
      "beagle\n"
     ]
    }
   ],
   "source": [
    "print(beagle.type)"
   ]
  },
  {
   "cell_type": "markdown",
   "metadata": {},
   "source": [
    "### Building the Base Model Class"
   ]
  },
  {
   "cell_type": "markdown",
   "metadata": {},
   "source": [
    "Time to start our modeling framework! We will build a BaseModel and then use this base class throughout the tutorial, adding additional modules and functionality. To start, our class will do only a few simple things:\n",
    "- load a file\n",
    "- set a target\n",
    "- print some basic statistics about our data frame\n",
    "\n",
    "We start by declaring the name of our model class. We are going to call it Base Class.\n",
    "\n",
    "All classes must have an \\_\\_init\\_\\_as a setup function. As a reminder, the init doesn't have to do anything. It could simply say pass. But it still must exist as the first method in our class. Our init is going to load our file, but it's going to load our file by calling a DIFFERENT function inside our class."
   ]
  },
  {
   "cell_type": "code",
   "execution_count": 25,
   "metadata": {},
   "outputs": [],
   "source": [
    "import pandas as pd\n",
    "\n",
    "class BaseModel:\n",
    "\n",
    "    def __init__(self, filename):\n",
    "        self.df = self._load_file(filename)\n",
    "    \n",
    "    def _load_file(self, filename):\n",
    "        return pd.read_csv(filename, low_memory=False, on_bad_lines=\"skip\")"
   ]
  },
  {
   "cell_type": "markdown",
   "metadata": {},
   "source": [
    "You may notice that our \\_load_file method starts with an underscore. This is a special indicator that indicates that this method is only called from inside the class, and wouldn't be called directly by us. This particular method is only called by the \\_\\_init\\_\\_ setup function.\n",
    "\n",
    "We make an instance of our object:"
   ]
  },
  {
   "cell_type": "code",
   "execution_count": 28,
   "metadata": {},
   "outputs": [],
   "source": [
    "model_object = BaseModel('../resources/kc_house_data.csv')"
   ]
  },
  {
   "cell_type": "markdown",
   "metadata": {},
   "source": [
    "Our BaseModel \\_\\_init\\_\\_ requires an argument to be sent, which is the file name that we want to load. The \\_\\_init\\_\\_ automatically calls the _load_file method using the filename as an argument, and pandas loads the file and returns it to be set as our self.df. From now on, we can reference self.df in any class method, and it will know what variable we are referring to.\n",
    "\n",
    "Now we will add a method that prints some basic statistics for our dataframe:"
   ]
  },
  {
   "cell_type": "code",
   "execution_count": 29,
   "metadata": {},
   "outputs": [],
   "source": [
    "import pandas as pd\n",
    "\n",
    "class BaseModel:\n",
    "    def __init__(self, filename):\n",
    "        self.df = self._load_file(filename)\n",
    "\n",
    "    def _load_file(self, filename):\n",
    "        return pd.read_csv(filename, on_bad_lines=\"skip\")\n",
    "\n",
    "    def print_statistics(self):\n",
    "        print(f\"DF columns: {self.df.columns}\\n\")\n",
    "        print(f\"DF shape: {self.df.shape}\\n\")\n",
    "        print(f\"Data types: {self.df.dtypes}\\n\")\n",
    "        print(f\"Describe: {self.df.describe()}\\n\")\n",
    "        print(f\"isna sum: {self.df.isna().sum()}\\n\")\n",
    "        print(self.df.head())"
   ]
  },
  {
   "cell_type": "markdown",
   "metadata": {},
   "source": [
    "You should be familiar with all of these pandas methods. We've simply made a class function that prints them all for us. To run this we need to make a new object (because our blueprint changed!) and run this class method."
   ]
  },
  {
   "cell_type": "code",
   "execution_count": 31,
   "metadata": {},
   "outputs": [
    {
     "name": "stdout",
     "output_type": "stream",
     "text": [
      "DF columns: Index(['id', 'date', 'price', 'bedrooms', 'bathrooms', 'sqft_living',\n",
      "       'sqft_lot', 'floors', 'waterfront', 'view', 'condition', 'grade',\n",
      "       'sqft_above', 'sqft_basement', 'yr_built', 'yr_renovated', 'zipcode',\n",
      "       'lat', 'long', 'sqft_living15', 'sqft_lot15'],\n",
      "      dtype='object')\n",
      "\n",
      "DF shape: (21613, 21)\n",
      "\n",
      "Data types: id                 int64\n",
      "date              object\n",
      "price            float64\n",
      "bedrooms           int64\n",
      "bathrooms        float64\n",
      "sqft_living        int64\n",
      "sqft_lot           int64\n",
      "floors           float64\n",
      "waterfront         int64\n",
      "view               int64\n",
      "condition          int64\n",
      "grade              int64\n",
      "sqft_above         int64\n",
      "sqft_basement      int64\n",
      "yr_built           int64\n",
      "yr_renovated       int64\n",
      "zipcode            int64\n",
      "lat              float64\n",
      "long             float64\n",
      "sqft_living15      int64\n",
      "sqft_lot15         int64\n",
      "dtype: object\n",
      "\n",
      "Describe:                  id         price      bedrooms     bathrooms   sqft_living  \\\n",
      "count  2.161300e+04  2.161300e+04  21613.000000  21613.000000  21613.000000   \n",
      "mean   4.580302e+09  5.400881e+05      3.370842      2.114757   2079.899736   \n",
      "std    2.876566e+09  3.671272e+05      0.930062      0.770163    918.440897   \n",
      "min    1.000102e+06  7.500000e+04      0.000000      0.000000    290.000000   \n",
      "25%    2.123049e+09  3.219500e+05      3.000000      1.750000   1427.000000   \n",
      "50%    3.904930e+09  4.500000e+05      3.000000      2.250000   1910.000000   \n",
      "75%    7.308900e+09  6.450000e+05      4.000000      2.500000   2550.000000   \n",
      "max    9.900000e+09  7.700000e+06     33.000000      8.000000  13540.000000   \n",
      "\n",
      "           sqft_lot        floors    waterfront          view     condition  \\\n",
      "count  2.161300e+04  21613.000000  21613.000000  21613.000000  21613.000000   \n",
      "mean   1.510697e+04      1.494309      0.007542      0.234303      3.409430   \n",
      "std    4.142051e+04      0.539989      0.086517      0.766318      0.650743   \n",
      "min    5.200000e+02      1.000000      0.000000      0.000000      1.000000   \n",
      "25%    5.040000e+03      1.000000      0.000000      0.000000      3.000000   \n",
      "50%    7.618000e+03      1.500000      0.000000      0.000000      3.000000   \n",
      "75%    1.068800e+04      2.000000      0.000000      0.000000      4.000000   \n",
      "max    1.651359e+06      3.500000      1.000000      4.000000      5.000000   \n",
      "\n",
      "              grade    sqft_above  sqft_basement      yr_built  yr_renovated  \\\n",
      "count  21613.000000  21613.000000   21613.000000  21613.000000  21613.000000   \n",
      "mean       7.656873   1788.390691     291.509045   1971.005136     84.402258   \n",
      "std        1.175459    828.090978     442.575043     29.373411    401.679240   \n",
      "min        1.000000    290.000000       0.000000   1900.000000      0.000000   \n",
      "25%        7.000000   1190.000000       0.000000   1951.000000      0.000000   \n",
      "50%        7.000000   1560.000000       0.000000   1975.000000      0.000000   \n",
      "75%        8.000000   2210.000000     560.000000   1997.000000      0.000000   \n",
      "max       13.000000   9410.000000    4820.000000   2015.000000   2015.000000   \n",
      "\n",
      "            zipcode           lat          long  sqft_living15     sqft_lot15  \n",
      "count  21613.000000  21613.000000  21613.000000   21613.000000   21613.000000  \n",
      "mean   98077.939805     47.560053   -122.213896    1986.552492   12768.455652  \n",
      "std       53.505026      0.138564      0.140828     685.391304   27304.179631  \n",
      "min    98001.000000     47.155900   -122.519000     399.000000     651.000000  \n",
      "25%    98033.000000     47.471000   -122.328000    1490.000000    5100.000000  \n",
      "50%    98065.000000     47.571800   -122.230000    1840.000000    7620.000000  \n",
      "75%    98118.000000     47.678000   -122.125000    2360.000000   10083.000000  \n",
      "max    98199.000000     47.777600   -121.315000    6210.000000  871200.000000  \n",
      "\n",
      "isna sum: id               0\n",
      "date             0\n",
      "price            0\n",
      "bedrooms         0\n",
      "bathrooms        0\n",
      "sqft_living      0\n",
      "sqft_lot         0\n",
      "floors           0\n",
      "waterfront       0\n",
      "view             0\n",
      "condition        0\n",
      "grade            0\n",
      "sqft_above       0\n",
      "sqft_basement    0\n",
      "yr_built         0\n",
      "yr_renovated     0\n",
      "zipcode          0\n",
      "lat              0\n",
      "long             0\n",
      "sqft_living15    0\n",
      "sqft_lot15       0\n",
      "dtype: int64\n",
      "\n",
      "           id             date     price  bedrooms  bathrooms  sqft_living  \\\n",
      "0  7129300520  20141013T000000  221900.0         3       1.00         1180   \n",
      "1  6414100192  20141209T000000  538000.0         3       2.25         2570   \n",
      "2  5631500400  20150225T000000  180000.0         2       1.00          770   \n",
      "3  2487200875  20141209T000000  604000.0         4       3.00         1960   \n",
      "4  1954400510  20150218T000000  510000.0         3       2.00         1680   \n",
      "\n",
      "   sqft_lot  floors  waterfront  view  ...  grade  sqft_above  sqft_basement  \\\n",
      "0      5650     1.0           0     0  ...      7        1180              0   \n",
      "1      7242     2.0           0     0  ...      7        2170            400   \n",
      "2     10000     1.0           0     0  ...      6         770              0   \n",
      "3      5000     1.0           0     0  ...      7        1050            910   \n",
      "4      8080     1.0           0     0  ...      8        1680              0   \n",
      "\n",
      "   yr_built  yr_renovated  zipcode      lat     long  sqft_living15  \\\n",
      "0      1955             0    98178  47.5112 -122.257           1340   \n",
      "1      1951          1991    98125  47.7210 -122.319           1690   \n",
      "2      1933             0    98028  47.7379 -122.233           2720   \n",
      "3      1965             0    98136  47.5208 -122.393           1360   \n",
      "4      1987             0    98074  47.6168 -122.045           1800   \n",
      "\n",
      "   sqft_lot15  \n",
      "0        5650  \n",
      "1        7639  \n",
      "2        8062  \n",
      "3        5000  \n",
      "4        7503  \n",
      "\n",
      "[5 rows x 21 columns]\n"
     ]
    }
   ],
   "source": [
    "model_object = BaseModel('../resources/kc_house_data.csv')\n",
    "model_object.print_statistics()"
   ]
  },
  {
   "cell_type": "markdown",
   "metadata": {},
   "source": [
    "Note that when we call the print_statistics() method, we don't pass any argument for self. You'll recall that self is an invisible argument.\n",
    "\n",
    "You can also access the dataframe directly if you want to. Just remember that the class attribute is called df. Simply append the object name at the beginning of your calls. Example:"
   ]
  },
  {
   "cell_type": "code",
   "execution_count": 32,
   "metadata": {},
   "outputs": [
    {
     "data": {
      "text/html": [
       "<div>\n",
       "<style scoped>\n",
       "    .dataframe tbody tr th:only-of-type {\n",
       "        vertical-align: middle;\n",
       "    }\n",
       "\n",
       "    .dataframe tbody tr th {\n",
       "        vertical-align: top;\n",
       "    }\n",
       "\n",
       "    .dataframe thead th {\n",
       "        text-align: right;\n",
       "    }\n",
       "</style>\n",
       "<table border=\"1\" class=\"dataframe\">\n",
       "  <thead>\n",
       "    <tr style=\"text-align: right;\">\n",
       "      <th></th>\n",
       "      <th>id</th>\n",
       "      <th>date</th>\n",
       "      <th>price</th>\n",
       "      <th>bedrooms</th>\n",
       "      <th>bathrooms</th>\n",
       "      <th>sqft_living</th>\n",
       "      <th>sqft_lot</th>\n",
       "      <th>floors</th>\n",
       "      <th>waterfront</th>\n",
       "      <th>view</th>\n",
       "      <th>...</th>\n",
       "      <th>grade</th>\n",
       "      <th>sqft_above</th>\n",
       "      <th>sqft_basement</th>\n",
       "      <th>yr_built</th>\n",
       "      <th>yr_renovated</th>\n",
       "      <th>zipcode</th>\n",
       "      <th>lat</th>\n",
       "      <th>long</th>\n",
       "      <th>sqft_living15</th>\n",
       "      <th>sqft_lot15</th>\n",
       "    </tr>\n",
       "  </thead>\n",
       "  <tbody>\n",
       "    <tr>\n",
       "      <th>0</th>\n",
       "      <td>7129300520</td>\n",
       "      <td>20141013T000000</td>\n",
       "      <td>221900.0</td>\n",
       "      <td>3</td>\n",
       "      <td>1.00</td>\n",
       "      <td>1180</td>\n",
       "      <td>5650</td>\n",
       "      <td>1.0</td>\n",
       "      <td>0</td>\n",
       "      <td>0</td>\n",
       "      <td>...</td>\n",
       "      <td>7</td>\n",
       "      <td>1180</td>\n",
       "      <td>0</td>\n",
       "      <td>1955</td>\n",
       "      <td>0</td>\n",
       "      <td>98178</td>\n",
       "      <td>47.5112</td>\n",
       "      <td>-122.257</td>\n",
       "      <td>1340</td>\n",
       "      <td>5650</td>\n",
       "    </tr>\n",
       "    <tr>\n",
       "      <th>1</th>\n",
       "      <td>6414100192</td>\n",
       "      <td>20141209T000000</td>\n",
       "      <td>538000.0</td>\n",
       "      <td>3</td>\n",
       "      <td>2.25</td>\n",
       "      <td>2570</td>\n",
       "      <td>7242</td>\n",
       "      <td>2.0</td>\n",
       "      <td>0</td>\n",
       "      <td>0</td>\n",
       "      <td>...</td>\n",
       "      <td>7</td>\n",
       "      <td>2170</td>\n",
       "      <td>400</td>\n",
       "      <td>1951</td>\n",
       "      <td>1991</td>\n",
       "      <td>98125</td>\n",
       "      <td>47.7210</td>\n",
       "      <td>-122.319</td>\n",
       "      <td>1690</td>\n",
       "      <td>7639</td>\n",
       "    </tr>\n",
       "    <tr>\n",
       "      <th>2</th>\n",
       "      <td>5631500400</td>\n",
       "      <td>20150225T000000</td>\n",
       "      <td>180000.0</td>\n",
       "      <td>2</td>\n",
       "      <td>1.00</td>\n",
       "      <td>770</td>\n",
       "      <td>10000</td>\n",
       "      <td>1.0</td>\n",
       "      <td>0</td>\n",
       "      <td>0</td>\n",
       "      <td>...</td>\n",
       "      <td>6</td>\n",
       "      <td>770</td>\n",
       "      <td>0</td>\n",
       "      <td>1933</td>\n",
       "      <td>0</td>\n",
       "      <td>98028</td>\n",
       "      <td>47.7379</td>\n",
       "      <td>-122.233</td>\n",
       "      <td>2720</td>\n",
       "      <td>8062</td>\n",
       "    </tr>\n",
       "    <tr>\n",
       "      <th>3</th>\n",
       "      <td>2487200875</td>\n",
       "      <td>20141209T000000</td>\n",
       "      <td>604000.0</td>\n",
       "      <td>4</td>\n",
       "      <td>3.00</td>\n",
       "      <td>1960</td>\n",
       "      <td>5000</td>\n",
       "      <td>1.0</td>\n",
       "      <td>0</td>\n",
       "      <td>0</td>\n",
       "      <td>...</td>\n",
       "      <td>7</td>\n",
       "      <td>1050</td>\n",
       "      <td>910</td>\n",
       "      <td>1965</td>\n",
       "      <td>0</td>\n",
       "      <td>98136</td>\n",
       "      <td>47.5208</td>\n",
       "      <td>-122.393</td>\n",
       "      <td>1360</td>\n",
       "      <td>5000</td>\n",
       "    </tr>\n",
       "    <tr>\n",
       "      <th>4</th>\n",
       "      <td>1954400510</td>\n",
       "      <td>20150218T000000</td>\n",
       "      <td>510000.0</td>\n",
       "      <td>3</td>\n",
       "      <td>2.00</td>\n",
       "      <td>1680</td>\n",
       "      <td>8080</td>\n",
       "      <td>1.0</td>\n",
       "      <td>0</td>\n",
       "      <td>0</td>\n",
       "      <td>...</td>\n",
       "      <td>8</td>\n",
       "      <td>1680</td>\n",
       "      <td>0</td>\n",
       "      <td>1987</td>\n",
       "      <td>0</td>\n",
       "      <td>98074</td>\n",
       "      <td>47.6168</td>\n",
       "      <td>-122.045</td>\n",
       "      <td>1800</td>\n",
       "      <td>7503</td>\n",
       "    </tr>\n",
       "  </tbody>\n",
       "</table>\n",
       "<p>5 rows × 21 columns</p>\n",
       "</div>"
      ],
      "text/plain": [
       "           id             date     price  bedrooms  bathrooms  sqft_living  \\\n",
       "0  7129300520  20141013T000000  221900.0         3       1.00         1180   \n",
       "1  6414100192  20141209T000000  538000.0         3       2.25         2570   \n",
       "2  5631500400  20150225T000000  180000.0         2       1.00          770   \n",
       "3  2487200875  20141209T000000  604000.0         4       3.00         1960   \n",
       "4  1954400510  20150218T000000  510000.0         3       2.00         1680   \n",
       "\n",
       "   sqft_lot  floors  waterfront  view  ...  grade  sqft_above  sqft_basement  \\\n",
       "0      5650     1.0           0     0  ...      7        1180              0   \n",
       "1      7242     2.0           0     0  ...      7        2170            400   \n",
       "2     10000     1.0           0     0  ...      6         770              0   \n",
       "3      5000     1.0           0     0  ...      7        1050            910   \n",
       "4      8080     1.0           0     0  ...      8        1680              0   \n",
       "\n",
       "   yr_built  yr_renovated  zipcode      lat     long  sqft_living15  \\\n",
       "0      1955             0    98178  47.5112 -122.257           1340   \n",
       "1      1951          1991    98125  47.7210 -122.319           1690   \n",
       "2      1933             0    98028  47.7379 -122.233           2720   \n",
       "3      1965             0    98136  47.5208 -122.393           1360   \n",
       "4      1987             0    98074  47.6168 -122.045           1800   \n",
       "\n",
       "   sqft_lot15  \n",
       "0        5650  \n",
       "1        7639  \n",
       "2        8062  \n",
       "3        5000  \n",
       "4        7503  \n",
       "\n",
       "[5 rows x 21 columns]"
      ]
     },
     "execution_count": 32,
     "metadata": {},
     "output_type": "execute_result"
    }
   ],
   "source": [
    "model_object.df.head()"
   ]
  },
  {
   "cell_type": "markdown",
   "metadata": {},
   "source": [
    "We're going to add one last method to our class in this module, which sets our target field."
   ]
  },
  {
   "cell_type": "code",
   "execution_count": 33,
   "metadata": {},
   "outputs": [],
   "source": [
    "import pandas as pd\n",
    "\n",
    "class BaseModel:\n",
    "    def __init__(self, filename):\n",
    "        self.df = self._load_file(filename)\n",
    "\n",
    "    def _load_file(self, filename):\n",
    "        return pd.read_csv(filename, on_bad_lines=\"skip\")\n",
    "\n",
    "    def set_target(self, target):\n",
    "        self.target = target\n",
    "\n",
    "    def print_statistics(self):\n",
    "        print(f\"DF columns: {self.df.columns}\\n\")\n",
    "        print(f\"DF shape: {self.df.shape}\\n\")\n",
    "        print(f\"Data types: {self.df.dtypes}\\n\")\n",
    "        print(f\"Describe: {self.df.describe()}\\n\")\n",
    "        print(f\"isna sum: {self.df.isna().sum()}\\n\")\n",
    "        print(self.df.head())"
   ]
  },
  {
   "cell_type": "markdown",
   "metadata": {},
   "source": [
    "Now that we've looked at some base statistics for our dataframe, we should have an idea of our regression or classification target. We're going to call our set_target method to set this as the target field.\n",
    "\n",
    "Remaking the model object, since we changed the blueprint."
   ]
  },
  {
   "cell_type": "code",
   "execution_count": 34,
   "metadata": {},
   "outputs": [],
   "source": [
    "model_object = BaseModel('../resources/kc_house_data.csv')\n",
    "model_object.set_target('price')"
   ]
  },
  {
   "cell_type": "markdown",
   "metadata": {},
   "source": [
    "We've now set our target field. We can confirm this by calling our target directly."
   ]
  },
  {
   "cell_type": "code",
   "execution_count": 35,
   "metadata": {},
   "outputs": [
    {
     "data": {
      "text/plain": [
       "'price'"
      ]
     },
     "execution_count": 35,
     "metadata": {},
     "output_type": "execute_result"
    }
   ],
   "source": [
    "model_object.target"
   ]
  },
  {
   "cell_type": "markdown",
   "metadata": {},
   "source": [
    "### Introducing Docstrings Into Our Code\n",
    "\n",
    "We're done writing new code for this module, but we're going to hit one more concept, which is docstrings. Most people have heard of and used them, and their importance cannot be understated. Our class object right now is pretty small, but as we build on it, we'll want good docstrings so that we can use one of Python's simplest and best tools - help()!"
   ]
  },
  {
   "cell_type": "code",
   "execution_count": 36,
   "metadata": {},
   "outputs": [
    {
     "name": "stdout",
     "output_type": "stream",
     "text": [
      "Help on class BaseModel in module __main__:\n",
      "\n",
      "class BaseModel(builtins.object)\n",
      " |  BaseModel(filename: str)\n",
      " |  \n",
      " |  Methods defined here:\n",
      " |  \n",
      " |  __init__(self, filename: str)\n",
      " |      Initialize self.  See help(type(self)) for accurate signature.\n",
      " |  \n",
      " |  print_statistics(self)\n",
      " |  \n",
      " |  set_target(self, target)\n",
      " |  \n",
      " |  ----------------------------------------------------------------------\n",
      " |  Data descriptors defined here:\n",
      " |  \n",
      " |  __dict__\n",
      " |      dictionary for instance variables (if defined)\n",
      " |  \n",
      " |  __weakref__\n",
      " |      list of weak references to the object (if defined)\n",
      "\n"
     ]
    }
   ],
   "source": [
    "help(BaseModel)"
   ]
  },
  {
   "cell_type": "markdown",
   "metadata": {},
   "source": [
    "Right now if we call help() on BaseModel, we don't get very much information. If we add proper docstrings to our class, we'll get all of the information about our class methods when we call help().\n",
    "\n",
    "As I mentioned in Module 1, I use VS Code with autoDocstring installed.  This extension builds a docstring template in any function if you type \"\"\" and hit enter to \"Generate Docstring\"."
   ]
  },
  {
   "cell_type": "code",
   "execution_count": 39,
   "metadata": {},
   "outputs": [],
   "source": [
    "import pandas as pd\n",
    "\n",
    "class BaseModel:\n",
    "    def __init__(self, filename):\n",
    "        self.df = self._load_file(filename)\n",
    "\n",
    "    def _load_file(self, filename):\n",
    "        \"\"\"Load file from filename and set target field\n",
    "        Args:\n",
    "            filename: filename in csv format\n",
    "        Returns:\n",
    "            pd.DataFrame: df loaded from file\n",
    "        \"\"\"\n",
    "        return pd.read_csv(filename, on_bad_lines=\"skip\")\n",
    "\n",
    "    def set_target(self, target):\n",
    "        \"\"\"Sets model target field\n",
    "        Args:\n",
    "            target: target field for model\n",
    "        \"\"\"\n",
    "        self.target = target\n",
    "\n",
    "    def print_statistics(self):\n",
    "        \"\"\"Print basic dataframe statistics\"\"\"\n",
    "        print(f\"DF columns: {self.df.columns}\\n\")\n",
    "        print(f\"DF shape: {self.df.shape}\\n\")\n",
    "        print(f\"Data types: {self.df.dtypes}\\n\")\n",
    "        print(f\"Describe: {self.df.describe()}\\n\")\n",
    "        print(f\"isna sum: {self.df.isna().sum()}\\n\")\n",
    "        print(self.df.head())"
   ]
  },
  {
   "cell_type": "markdown",
   "metadata": {},
   "source": [
    "We've added some docstrings to our base class, so now when we print help, we'll get some more information about each method."
   ]
  },
  {
   "cell_type": "code",
   "execution_count": 40,
   "metadata": {},
   "outputs": [
    {
     "name": "stdout",
     "output_type": "stream",
     "text": [
      "Help on class BaseModel in module __main__:\n",
      "\n",
      "class BaseModel(builtins.object)\n",
      " |  BaseModel(filename)\n",
      " |  \n",
      " |  Methods defined here:\n",
      " |  \n",
      " |  __init__(self, filename)\n",
      " |      Initialize self.  See help(type(self)) for accurate signature.\n",
      " |  \n",
      " |  print_statistics(self)\n",
      " |      Print basic dataframe statistics\n",
      " |  \n",
      " |  set_target(self, target)\n",
      " |      Sets model target field\n",
      " |      Args:\n",
      " |          target: target field for model\n",
      " |  \n",
      " |  ----------------------------------------------------------------------\n",
      " |  Data descriptors defined here:\n",
      " |  \n",
      " |  __dict__\n",
      " |      dictionary for instance variables (if defined)\n",
      " |  \n",
      " |  __weakref__\n",
      " |      list of weak references to the object (if defined)\n",
      "\n"
     ]
    }
   ],
   "source": [
    "help(BaseModel)"
   ]
  },
  {
   "cell_type": "markdown",
   "metadata": {},
   "source": [
    "Much more informative!\n",
    "\n",
    "Up next in [Module 3](https://github.com/threnjen/object_oriented_machine_learning/blob/main/module3/module_3.ipynb) we'll build an EDA Cleaning class and integrate it into our Base Model."
   ]
  }
 ],
 "metadata": {
  "kernelspec": {
   "display_name": "Python 3.10.4 ('object_oriented_machine_learning-cyZdX5gt')",
   "language": "python",
   "name": "python3"
  },
  "language_info": {
   "codemirror_mode": {
    "name": "ipython",
    "version": 3
   },
   "file_extension": ".py",
   "mimetype": "text/x-python",
   "name": "python",
   "nbconvert_exporter": "python",
   "pygments_lexer": "ipython3",
   "version": "3.10.4"
  },
  "orig_nbformat": 4,
  "vscode": {
   "interpreter": {
    "hash": "c92e476e37dcf0c11c9fec65999947cee5b5777dc27b66638545f02a2906077b"
   }
  }
 },
 "nbformat": 4,
 "nbformat_minor": 2
}
