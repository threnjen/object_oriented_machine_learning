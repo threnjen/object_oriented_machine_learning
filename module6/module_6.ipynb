{
 "cells": [
  {
   "cell_type": "code",
   "execution_count": null,
   "metadata": {},
   "outputs": [],
   "source": []
  }
 ],
 "metadata": {
  "kernelspec": {
   "display_name": "Python 3.10.4 ('object_oriented_machine_learning-cyZdX5gt')",
   "language": "python",
   "name": "python3"
  },
  "language_info": {
   "name": "python",
   "version": "3.10.4"
  },
  "orig_nbformat": 4,
  "vscode": {
   "interpreter": {
    "hash": "c92e476e37dcf0c11c9fec65999947cee5b5777dc27b66638545f02a2906077b"
   }
  }
 },
 "nbformat": 4,
 "nbformat_minor": 2
}
