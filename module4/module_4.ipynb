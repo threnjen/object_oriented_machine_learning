{
 "cells": [
  {
   "cell_type": "markdown",
   "metadata": {},
   "source": [
    "## Module 4\n",
    "\n",
    "This is Module 4 in building a reusable, class-based machine learning framework.\n",
    "\n",
    "In [Module 1](https://github.com/threnjen/object_oriented_machine_learning/blob/main/module1/module_1.ipynb), we focused on preparing to code outside of Jupyter Notebook. We set up virtual environments with [Pipenv](https://pipenv.pypa.io/en/latest/), installed and configured [VS Code](https://code.visualstudio.com/), and added automatic [Black](https://github.com/psf/black) formatting to our code.\n",
    "\n",
    "In [Module 2](https://github.com/threnjen/object_oriented_machine_learning/blob/main/module2/module_2.ipynb), we refreshed about how to build Python classes. We built our base model class with an initial exploratory method. We added docstrings to our class methods so that we get documentation when calling help().\n",
    "\n",
    "In [Module 3](https://github.com/threnjen/object_oriented_machine_learning/blob/main/module3/module_3.ipynb), we built an EDA Cleaning class and integrated it into our Base Model.\n",
    "\n",
    "In Module 4, we will focus on the following skills:\n",
    "- Understanding the concept of an abstract class\n",
    "- Setting up a Regression abstract class\n",
    "- Introducing type hints into our code"
   ]
  },
  {
   "cell_type": "markdown",
   "metadata": {},
   "source": [
    "### Abstract Classes\n",
    "\n",
    "While a class is a blueprint for different similar objects, an abstract class is a blueprint for other classes. We use an abstract class if we're going to have functions that we ALWAYS want as part of our class, and that we want to use the SAME NAMES, but the function may have *different behavior*.\n",
    "\n",
    "A good example, and in fact the one we will use in our framework, is regression vs classification. In both of these model types we'll want to use train_trest_split to break up our data, but we might want to approach that differently depending on the model type. However we would like to be able to call the same method name to accomplish the task. Another example would be making a basic model - linear regression vs logistic regression, respectively. We can call a method named basic_model to accomplish this task, but have it use the correct type of model depending on our data set.\n",
    "\n",
    "We are going to turn our BaseModel into a class blueprint (an abstract class) and define two methods - a split method and a basic regression method. However we will define the methods as abstract methods, meaning that the classes we make from the blueprint MUST use them. \n",
    "\n",
    "Our first step is to redefine our BaseModel as a class blueprint by making it an abstract class. We have a new import statement, and importantly, our BaseModel class declaration is now class BaseModel(ABC) which defines it as a class blueprint.\n"
   ]
  },
  {
   "cell_type": "code",
   "execution_count": 3,
   "metadata": {},
   "outputs": [],
   "source": [
    "from abc import ABC, abstractmethod\n",
    "import pandas as pd\n",
    "\n",
    "from module4_eda_cleaning import EDACleaning\n",
    "\n",
    "class BaseModel(ABC):\n",
    "    def __init__(self, filename):\n",
    "        self.df = self._load_file(filename)\n",
    "        self.cleaner = EDACleaning()\n",
    "\n",
    "    def _load_file(self, filename):\n",
    "        \"\"\"Load file from filename and set target field\n",
    "        Args:\n",
    "            filename: filename in csv format\n",
    "        Returns:\n",
    "            pd.DataFrame: df loaded from file\n",
    "        \"\"\"\n",
    "        return pd.read_csv(filename, on_bad_lines=\"skip\")\n",
    "\n",
    "    def set_target(self, target):\n",
    "        \"\"\"Sets model target field\n",
    "        Args:\n",
    "            target: target field for model\n",
    "        \"\"\"\n",
    "        self.target = target\n",
    "        self.cleaner.set_target(target)\n",
    "\n",
    "    def print_statistics(self):\n",
    "        \"\"\"Print basic statistics for data\"\"\"\n",
    "        self.cleaner.print_statistics(self.df)\n"
   ]
  },
  {
   "cell_type": "markdown",
   "metadata": {},
   "source": [
    "The next step is to define our two abstract methods, which are the methods that are required in our other objects such as Regression Model and Logistic Model.\n",
    "\n",
    "We add two methods to the bottom of our BaseModel. They still take self, just like other class methods. They only return pass, because we don't put logic for abstract methods in the class blueprint. Most importantly, they have the `@abstractmethod` decorator before the function definition. This declares that classes made from the BaseModel blueprint MUST have these methods."
   ]
  },
  {
   "cell_type": "code",
   "execution_count": 4,
   "metadata": {},
   "outputs": [],
   "source": [
    "class BaseModel(ABC):\n",
    "    def __init__(self, filename):\n",
    "        self.df = self._load_file(filename)\n",
    "        self.cleaner = EDACleaning()\n",
    "\n",
    "    def _load_file(self, filename):\n",
    "        \"\"\"Load file from filename and set target field\n",
    "        Args:\n",
    "            filename: filename in csv format\n",
    "        Returns:\n",
    "            df loaded from file\n",
    "        \"\"\"\n",
    "        return pd.read_csv(filename, on_bad_lines=\"skip\")\n",
    "\n",
    "    def set_target(self, target):\n",
    "        \"\"\"Sets model target field\n",
    "        Args:\n",
    "            target: target field for model\n",
    "        \"\"\"\n",
    "        self.target = target\n",
    "        self.cleaner.set_target(target)\n",
    "\n",
    "    def print_statistics(self):\n",
    "        \"\"\"Print basic statistics for data\"\"\"\n",
    "        self.cleaner.print_statistics(self.df)\n",
    "\n",
    "    @abstractmethod\n",
    "    def split_data(self, stratify):\n",
    "        pass\n",
    "\n",
    "    @abstractmethod\n",
    "    def basic_regression(self):\n",
    "        pass"
   ]
  },
  {
   "cell_type": "markdown",
   "metadata": {},
   "source": [
    "### Setting up a Regression Model class\n",
    "\n",
    "Now we will make a class using our class blueprint. It's time to set up our RegressionModel! Let's make it a simple class with a pass \\_\\_init\\_\\_. Also since we're using the BaseModel as a blueprint for this class, we declare the class with `class RegressionModel(BaseModel)` to indicate that it's a class of type BaseModel.\n",
    "\n",
    "After we make the RegressionModel class, we try making RegressionModel object."
   ]
  },
  {
   "cell_type": "code",
   "execution_count": 10,
   "metadata": {},
   "outputs": [
    {
     "ename": "TypeError",
     "evalue": "Can't instantiate abstract class RegressionModel with abstract methods basic_regression, split_data",
     "output_type": "error",
     "traceback": [
      "\u001b[1;31m---------------------------------------------------------------------------\u001b[0m",
      "\u001b[1;31mTypeError\u001b[0m                                 Traceback (most recent call last)",
      "\u001b[1;32mc:\\Users\\thren\\Dropbox\\Projects\\object_oriented_machine_learning\\module4\\module_4.ipynb Cell 7\u001b[0m in \u001b[0;36m<cell line: 5>\u001b[1;34m()\u001b[0m\n\u001b[0;32m      <a href='vscode-notebook-cell:/c%3A/Users/thren/Dropbox/Projects/object_oriented_machine_learning/module4/module_4.ipynb#ch0000009?line=1'>2</a>\u001b[0m     \u001b[39mdef\u001b[39;00m \u001b[39m__init__\u001b[39m(\u001b[39mself\u001b[39m):\n\u001b[0;32m      <a href='vscode-notebook-cell:/c%3A/Users/thren/Dropbox/Projects/object_oriented_machine_learning/module4/module_4.ipynb#ch0000009?line=2'>3</a>\u001b[0m         \u001b[39mpass\u001b[39;00m\n\u001b[1;32m----> <a href='vscode-notebook-cell:/c%3A/Users/thren/Dropbox/Projects/object_oriented_machine_learning/module4/module_4.ipynb#ch0000009?line=4'>5</a>\u001b[0m model_object \u001b[39m=\u001b[39m RegressionModel()\n",
      "\u001b[1;31mTypeError\u001b[0m: Can't instantiate abstract class RegressionModel with abstract methods basic_regression, split_data"
     ]
    }
   ],
   "source": [
    "class RegressionModel(BaseModel):\n",
    "    def __init__(self):\n",
    "        pass\n",
    "\n",
    "model_object = RegressionModel()"
   ]
  },
  {
   "cell_type": "markdown",
   "metadata": {},
   "source": [
    "When we tried to instantiate our empty class, we got an error that RegressionModel is missing the methods basic_regression and split_data. These are the two methods that we decorated in our BaseModel with `@abstractmethod` which means they are required in our child object."
   ]
  },
  {
   "cell_type": "code",
   "execution_count": 12,
   "metadata": {},
   "outputs": [],
   "source": [
    "class RegressionModel(BaseModel):\n",
    "    def __init__(self, filename):\n",
    "        super().__init__(filename)\n",
    "\n",
    "    def basic_regression(self):\n",
    "        \"\"\"basic linear regression\"\"\"\n",
    "        pass\n",
    "\n",
    "    def split_data(self):\n",
    "        \"\"\"train_test_split data\"\"\"\n",
    "        pass"
   ]
  },
  {
   "cell_type": "markdown",
   "metadata": {},
   "source": [
    "Above is our updated RegressionModel object. We've also added another new concept here which is the super()\\_\\_init\\_\\_! This is saying that we want to use the \\_\\_init\\_\\_ of the parent class, in this case our BaseModel, which also means we need to pass the arguments that the BaseModel init uses. Since the BaseModel init is in charge of opening our file via a filename argument, we also pass that argument here.\n",
    "\n",
    "And, as mentioned earlier, we have the two required methods now present in our RegressionModel. There is no requirement that they do anything yet, and in fact they only pass. But they still must be defined.\n",
    "\n",
    "Now we will make an actual object. See if you notice what is different in our object declaration this time:"
   ]
  },
  {
   "cell_type": "code",
   "execution_count": 13,
   "metadata": {},
   "outputs": [],
   "source": [
    "model_object = RegressionModel('kc_house_data.csv')"
   ]
  },
  {
   "cell_type": "markdown",
   "metadata": {},
   "source": [
    "We're now using the child class to make our object. The secret of it being a child of BaseModel is it still has ALL of the methods that we've written in BaseModel:"
   ]
  },
  {
   "cell_type": "code",
   "execution_count": 14,
   "metadata": {},
   "outputs": [
    {
     "name": "stdout",
     "output_type": "stream",
     "text": [
      "           id             date     price  ...     long  sqft_living15  sqft_lot15\n",
      "0  7129300520  20141013T000000  221900.0  ... -122.257           1340        5650\n",
      "1  6414100192  20141209T000000  538000.0  ... -122.319           1690        7639\n",
      "2  5631500400  20150225T000000  180000.0  ... -122.233           2720        8062\n",
      "3  2487200875  20141209T000000  604000.0  ... -122.393           1360        5000\n",
      "4  1954400510  20150218T000000  510000.0  ... -122.045           1800        7503\n",
      "\n",
      "[5 rows x 21 columns]\n",
      "DF shape: (21613, 21)\n",
      "\n",
      "Data types: id                 int64\n",
      "date              object\n",
      "price            float64\n",
      "bedrooms           int64\n",
      "bathrooms        float64\n",
      "sqft_living        int64\n",
      "sqft_lot           int64\n",
      "floors           float64\n",
      "waterfront         int64\n",
      "view               int64\n",
      "condition          int64\n",
      "grade              int64\n",
      "sqft_above         int64\n",
      "sqft_basement      int64\n",
      "yr_built           int64\n",
      "yr_renovated       int64\n",
      "zipcode            int64\n",
      "lat              float64\n",
      "long             float64\n",
      "sqft_living15      int64\n",
      "sqft_lot15         int64\n",
      "dtype: object\n",
      "\n",
      "Describe:                  id         price  ...  sqft_living15     sqft_lot15\n",
      "count  2.161300e+04  2.161300e+04  ...   21613.000000   21613.000000\n",
      "mean   4.580302e+09  5.400881e+05  ...    1986.552492   12768.455652\n",
      "std    2.876566e+09  3.671272e+05  ...     685.391304   27304.179631\n",
      "min    1.000102e+06  7.500000e+04  ...     399.000000     651.000000\n",
      "25%    2.123049e+09  3.219500e+05  ...    1490.000000    5100.000000\n",
      "50%    3.904930e+09  4.500000e+05  ...    1840.000000    7620.000000\n",
      "75%    7.308900e+09  6.450000e+05  ...    2360.000000   10083.000000\n",
      "max    9.900000e+09  7.700000e+06  ...    6210.000000  871200.000000\n",
      "\n",
      "[8 rows x 20 columns]\n",
      "\n",
      "isna sum: id               0\n",
      "date             0\n",
      "price            0\n",
      "bedrooms         0\n",
      "bathrooms        0\n",
      "sqft_living      0\n",
      "sqft_lot         0\n",
      "floors           0\n",
      "waterfront       0\n",
      "view             0\n",
      "condition        0\n",
      "grade            0\n",
      "sqft_above       0\n",
      "sqft_basement    0\n",
      "yr_built         0\n",
      "yr_renovated     0\n",
      "zipcode          0\n",
      "lat              0\n",
      "long             0\n",
      "sqft_living15    0\n",
      "sqft_lot15       0\n",
      "dtype: int64\n",
      "\n"
     ]
    }
   ],
   "source": [
    "model_object.set_target('price')\n",
    "model_object.print_statistics()"
   ]
  },
  {
   "cell_type": "markdown",
   "metadata": {},
   "source": [
    "### Introducing Type Hints\n",
    "\n",
    "As we add methods to our code and have lots of functions with different arguments, it becomes less obvious what all of those functions both take and output. Type hints are a code best practice that makes our code understandable at a glance by declaring what variable types should be. We can and should type hint both our inputs and our outputs wherever possible.\n",
    "\n",
    "We'll start by adding type hints to our BaseModel class. See if you can find the type hints I've added below. We also add a new import statement."
   ]
  },
  {
   "cell_type": "code",
   "execution_count": 16,
   "metadata": {},
   "outputs": [],
   "source": [
    "from typing import Optional\n",
    "\n",
    "class BaseModel:\n",
    "    def __init__(self, filename: str):\n",
    "        self.df = self._load_file(filename)\n",
    "        self.cleaner = EDACleaning()\n",
    "\n",
    "    def _load_file(self, filename: str) -> pd.DataFrame:\n",
    "        \"\"\"Load file from filename and set target field\n",
    "        Args:\n",
    "            filename (str): filename in csv format\n",
    "        Returns:\n",
    "            pd.DataFrame: df loaded from file\n",
    "        \"\"\"\n",
    "        return pd.read_csv(filename, on_bad_lines=\"skip\")\n",
    "\n",
    "    def set_target(self, target: str):\n",
    "        \"\"\"Sets model target field\n",
    "        Args:\n",
    "            target (str): target: target field for model\n",
    "        \"\"\"\n",
    "        self.target = target\n",
    "        self.cleaner.set_target(target)\n",
    "\n",
    "    def print_statistics(self):\n",
    "        \"\"\"Print basic statistics for data\"\"\"\n",
    "        self.cleaner.print_statistics(self.df)\n",
    "\n",
    "    @abstractmethod\n",
    "    def split_data(self, stratify: Optional[bool]):\n",
    "        pass\n",
    "\n",
    "    @abstractmethod\n",
    "    def basic_regression(self):\n",
    "        pass"
   ]
  },
  {
   "cell_type": "markdown",
   "metadata": {},
   "source": [
    "In our \\_\\_init\\_\\_, we've specified that our filename should be a string.\n",
    "\n",
    "In our _load_file, we expect the filename again as a string, and we return a pd.DataFrame.\n",
    "\n",
    "In set_target, we expect the target as a string.\n",
    "\n",
    "In our split_data method, we see our first argument with a default option if no explicit option is entered. We designate that this is an optional argument with the `Optional[]` designator.\n",
    "\n",
    "Now we type hint our RegressionModel:"
   ]
  },
  {
   "cell_type": "code",
   "execution_count": null,
   "metadata": {},
   "outputs": [],
   "source": [
    "class RegressionModel(BaseModel):\n",
    "    def __init__(self, filename: str):\n",
    "        super().__init__(filename)\n",
    "\n",
    "    def basic_regression(self):\n",
    "        \"\"\"basic linear regression\"\"\"\n",
    "        pass\n",
    "\n",
    "    def split_data(self, stratify: Optional[bool] = False):\n",
    "        \"\"\"train_test_split data\"\"\"\n",
    "        pass"
   ]
  },
  {
   "cell_type": "markdown",
   "metadata": {},
   "source": [
    "Note that here we've entered a default value for our stratify variable. This means that this function can be used without being passed an argument for stratify, in which case it will default to False.\n",
    "\n",
    "Type hinting our EDACleaning:"
   ]
  },
  {
   "cell_type": "code",
   "execution_count": null,
   "metadata": {},
   "outputs": [],
   "source": [
    "class EDACleaning:\n",
    "    def __init__(self):\n",
    "        pass\n",
    "\n",
    "    def set_target(self, target:str):\n",
    "        \"\"\"set model target variable\"\"\"\n",
    "        self.target = target\n",
    "\n",
    "    def print_statistics(self, df: pd.DataFrame):\n",
    "        \"\"\"Print basic dataframe statistics\"\"\"\n",
    "        print(df.head())\n",
    "        print(f\"DF shape: {df.shape}\\n\")\n",
    "        print(f\"Data types: {df.dtypes}\\n\")\n",
    "        print(f\"Describe: {df.describe()}\\n\")\n",
    "        print(f\"isna sum: {df.isna().sum()}\\n\")"
   ]
  },
  {
   "cell_type": "markdown",
   "metadata": {},
   "source": [
    "In this module we added the last of our class and clean code concepts. In Module 5 we will start expanding on our EDA module, and think about other modules that we want to incorporate."
   ]
  }
 ],
 "metadata": {
  "kernelspec": {
   "display_name": "Python 3.10.4 ('object_oriented_machine_learning-cyZdX5gt')",
   "language": "python",
   "name": "python3"
  },
  "language_info": {
   "codemirror_mode": {
    "name": "ipython",
    "version": 3
   },
   "file_extension": ".py",
   "mimetype": "text/x-python",
   "name": "python",
   "nbconvert_exporter": "python",
   "pygments_lexer": "ipython3",
   "version": "3.10.4"
  },
  "orig_nbformat": 4,
  "vscode": {
   "interpreter": {
    "hash": "c92e476e37dcf0c11c9fec65999947cee5b5777dc27b66638545f02a2906077b"
   }
  }
 },
 "nbformat": 4,
 "nbformat_minor": 2
}
