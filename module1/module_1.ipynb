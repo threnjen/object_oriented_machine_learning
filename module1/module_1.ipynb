{
 "cells": [
  {
   "cell_type": "markdown",
   "metadata": {},
   "source": [
    "## Module 1 Introduction\n",
    "\n",
    "In Module 1, we focus on preparing our coding environment to move beyond Jupyter Notebook. In order to create a class-based framework, the bones of that framework must be built in independent modules as pure *.py files. We can and will work with our data from within Jupyter Notebook, but we will do so by importing our built modules into the notebook rather than filling our notebook with non-reusable code.\n",
    "\n",
    "Before we get there, however, we need to do some setup. Though we won't write any python in this module, we'll build a coding infrastructure that I promise will make your life easier.\n",
    "\n",
    "In Module 1 we will focus on the following skills:\n",
    "- Setting up our project environment using [Pipenv](https://pipenv.pypa.io/en/latest/)\n",
    "- Picking out our code editor as we move beyond Jupyter Notebook\n",
    "- Setting up code formatting with [Black](https://github.com/psf/black)\n",
    "\n",
    "### Using Pipenv for virtual environments\n",
    "\n",
    "Environment management can be confusing, but solve (at least) two large problems:\n",
    "- you wrote a project years ago using an older package version.  When you update that package for a new project, the older project no longer runs.\n",
    "- you are collaborating on a project, and you each have different packages.  The code runs differently depending on who runs it.\n",
    "\n",
    "In both of the above examples, the core issue is the environment (the collection of packages that make up the python installation) is different.  The solution is a virtual environment--a simulated python install that controls exactly which packages (and their respective versions) are present in a project.\n",
    "\n",
    "I have come to favor Pipenv for my environment manager because it creates a unique, understandable file in each directory where you have an environment. This [Pipfile](https://github.com/pypa/pipfile), details the packages in the environment and their versions (if applicable).  Using Pipenv, your project will always be running with its own correct package installation, and the environment is easy to share with others simply by sharing the Pipfile. You can even use the Pipenv to manage different installs of Python.\n",
    "\n",
    "Installing Pipenv is easy. Open your terminal and run `pip install pipenv`. Now, from within your project's root directory, run `pipenv shell`. An initial Pipfile will be created in the project directory and you are up and running. Now, every time we open a command line in this directory, we run `pipenv shell` and the project environment will load with all of the packages installed in our Pipfile.\n",
    "\n",
    "As we start out, the only package installed in our Pipfile is a Python version. We'll need some initial packages installed for our tutorial series. We will build on these as we go along. First, make sure you are in your project's root directory, and have loaded the Pipenv with `pipenv shell`. We'll install Jupyter Notebook and Pandas with the following lines:\n",
    "- `pipenv install pandas`\n",
    "- `pipenv install notebook`\n",
    "\n",
    "As each package installs, the Pipfile is updated, and more detailed information written to Pipenv's proprietary file \"Pipfile.lock\". Don't mess with either Pipfile - Pipenv uses these for package versioning, and we're not intended to edit them directly.\n",
    "\n",
    "### Picking out our code editor\n",
    "\n",
    "In order to create our class-based framework, we'll need to build modules as pure *.py files, which means we'll need a dedicated code editor. My hands-down favorite is [Visual Studio Code](https://code.visualstudio.com/), which is free and works on Windows, Linux and Mac. But any dedicated code editor such as [Notebook++](https://notepad-plus-plus.org/), [Sublime](https://www.sublimetext.com/), etc will do. I favor VS Code because it has an extensive library of [available extensions](https://code.visualstudio.com/docs/editor/extension-marketplace), including a Jupyter Notebook extension which allows us to run our notebooks from within the program. It also has [excellent GitHub extension](https://marketplace.visualstudio.com/items?itemName=GitHub.vscode-pull-request-github) integration, which comes in very handy later on when you want to publish your projects for others to see!\n",
    "\n",
    "Since I use VS Code, the instructions I give will be related to that program. I trust you can Google to figure out how to accomplish similar things if your program of choice is different.\n",
    "\n",
    "Install VSCode, start it up, and open your project folder. Now under file hit \"Save Workspace As\" and save a workspace in your root project folder to set up your VSCode workspace.\n",
    "\n",
    "You'll now want a few handy extensions for our project, which you can access by hitting \"Extensions\" in the side tab. Search up and install: Python, Pylance, Jupyter, and autoDocstring. I'm also a fan of indent-rainbow which shows your indent levels by color. If you plan to integrate with GitHub from VSCode rather than command line, you'll also want to install GitHub Pull Requests and Issues and GitLens. These are the only extensions that I have needed for VS Code, but feel free to hunt for others!\n",
    "\n",
    "### Setting up code formatting with Black\n",
    "\n",
    "The last step of Module 1 is the first of our good code practices - using code formatting. We will configure VS Code to automatically format our code with the popular Black formatter. Code formatting makes your code consistent and readable, and aligns it automatically to a proper [PEP-8 standard](https://peps.python.org/pep-0008/). Other people (as well as you!) will be able to easily read and follow your code blocks.\n",
    "\n",
    "Open up your terminal, run `pipenv shell` as always, and enter `pipenv install black`\n",
    "\n",
    "In VS Code, we'll set up black to automatically format our files on save. Open VS Code settings (in Windows, click the gear icon located at the lower left and select Settings). The Settings will open up in your main screen area. We're setting up two things:\n",
    "- Pull down the \"Text Editor\" section and select \"Formatting\". Click \"Format on Save:\n",
    "- In the search box at top, enter \"python formatting provider\". Pull down the python formatting provider and select Black.\n",
    "\n",
    "Now, your files will be auto-formatted with Black on save. Easy!\n",
    "\n",
    "### Next Steps\n",
    "\n",
    "We have our virtual environment set up, we have our code editor ready to go, and we've prepped for our first good coding habit - consistent formatting (and we don't even have to work more for this one!). We're ready to start coding in Module 2, where we will have a refresher (or simple introduction) to classes and start building our model object.\n",
    "\n",
    "\n"
   ]
  }
 ],
 "metadata": {
  "kernelspec": {
   "display_name": "Python 3.10.5 64-bit",
   "language": "python",
   "name": "python3"
  },
  "language_info": {
   "codemirror_mode": {
    "name": "ipython",
    "version": 3
   },
   "file_extension": ".py",
   "mimetype": "text/x-python",
   "name": "python",
   "nbconvert_exporter": "python",
   "pygments_lexer": "ipython3",
   "version": "3.10.5"
  },
  "toc": {
   "base_numbering": 1,
   "nav_menu": {},
   "number_sections": true,
   "sideBar": true,
   "skip_h1_title": false,
   "title_cell": "Table of Contents",
   "title_sidebar": "Contents",
   "toc_cell": false,
   "toc_position": {},
   "toc_section_display": true,
   "toc_window_display": false
  },
  "vscode": {
   "interpreter": {
    "hash": "e93be08741eb44951e90a2195f79ef2bc508a5ecec207e0bd2e3acebad40c5e2"
   }
  }
 },
 "nbformat": 4,
 "nbformat_minor": 2
}
